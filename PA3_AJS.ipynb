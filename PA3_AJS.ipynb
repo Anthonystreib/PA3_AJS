{
 "cells": [
  {
   "cell_type": "markdown",
   "id": "393c3aac",
   "metadata": {},
   "source": [
    "## Task 1"
   ]
  },
  {
   "cell_type": "code",
   "execution_count": 1,
   "id": "790b8601",
   "metadata": {},
   "outputs": [
    {
     "name": "stdout",
     "output_type": "stream",
     "text": [
      "Modified numbers list: [5, 20, 30, 40, 50, 60]\n"
     ]
    }
   ],
   "source": [
    "numbers = [10, 20, 30, 40, 50]\n",
    "numbers.append(60)\n",
    "numbers.insert(0, 5)\n",
    "numbers.pop(1)\n",
    "print(\"Modified numbers list:\", numbers)"
   ]
  },
  {
   "cell_type": "markdown",
   "id": "92e768e0",
   "metadata": {},
   "source": [
    "## Task 2"
   ]
  },
  {
   "cell_type": "code",
   "execution_count": 2,
   "id": "be3133b9",
   "metadata": {},
   "outputs": [
    {
     "name": "stdout",
     "output_type": "stream",
     "text": [
      "Third day of the week: Wednesday\n",
      "Error: Tuples are immutable.\n"
     ]
    }
   ],
   "source": [
    "days = (\"Monday\", \"Tuesday\", \"Wednesday\", \"Thursday\", \"Friday\", \"Saturday\", \"Sunday\")\n",
    "print(\"Third day of the week:\", days[2])\n",
    "\n",
    "# Attempting to modify a tuple will result in an error\n",
    "# days[1] = \"Funday\"\n",
    "# This will raise a TypeError: 'tuple' object does not support item assignment\n",
    "print(\"Error: Tuples are immutable.\")"
   ]
  },
  {
   "cell_type": "markdown",
   "id": "78cda406",
   "metadata": {},
   "source": [
    "## Task 3"
   ]
  },
  {
   "cell_type": "code",
   "execution_count": 3,
   "id": "dee5b481",
   "metadata": {},
   "outputs": [
    {
     "name": "stdout",
     "output_type": "stream",
     "text": [
      "Reversed sublist: ['p', 'o', 'n', 'm', 'l', 'k']\n"
     ]
    }
   ],
   "source": [
    "letters = list(\"abcdefghijklmnopqrstuvwxyz\")\n",
    "\n",
    "reversed_sublist = letters[15:9:-1]  # Extract sublist [p,o,n,m,l,k]\n",
    "print(\"Reversed sublist:\", reversed_sublist)"
   ]
  },
  {
   "cell_type": "markdown",
   "id": "7280cf50",
   "metadata": {},
   "source": [
    "## Task 4"
   ]
  },
  {
   "cell_type": "code",
   "execution_count": 4,
   "id": "22b50008",
   "metadata": {},
   "outputs": [
    {
     "name": "stdout",
     "output_type": "stream",
     "text": [
      "First Name: Harry\n",
      "Last Name: Saze\n",
      "Age: 20\n",
      "Favorite Subject: Math\n"
     ]
    }
   ],
   "source": [
    "student = (\"Harry\", \"Saze\", 20, \"Math\")\n",
    "first_name, last_name, age, favorite_subject = student\n",
    "print(\"First Name:\", first_name)\n",
    "print(\"Last Name:\", last_name)\n",
    "print(\"Age:\", age)\n",
    "print(\"Favorite Subject:\", favorite_subject)"
   ]
  },
  {
   "cell_type": "markdown",
   "id": "8328a106",
   "metadata": {},
   "source": [
    "## Task 5"
   ]
  },
  {
   "cell_type": "code",
   "execution_count": 5,
   "id": "ff389c21",
   "metadata": {},
   "outputs": [
    {
     "name": "stdout",
     "output_type": "stream",
     "text": [
      "Total items on shopping list: 6\n",
      "Sorted shopping list: ['bananas', 'bread', 'cheese', 'eggs', 'lime', 'milk']\n"
     ]
    }
   ],
   "source": [
    "shopping_list = [\"bread\", \"bananas\", \"hamburger\", \"milk\", \"eggs\",\"lime\"]\n",
    "total_items = len(shopping_list)\n",
    "shopping_list[2] = \"cheese\"\n",
    "shopping_list.sort()\n",
    "print(\"Total items on shopping list:\", total_items)\n",
    "print(\"Sorted shopping list:\", shopping_list)"
   ]
  },
  {
   "cell_type": "code",
   "execution_count": null,
   "id": "a3009781",
   "metadata": {},
   "outputs": [],
   "source": []
  }
 ],
 "metadata": {
  "kernelspec": {
   "display_name": "Python 3 (ipykernel)",
   "language": "python",
   "name": "python3"
  },
  "language_info": {
   "codemirror_mode": {
    "name": "ipython",
    "version": 3
   },
   "file_extension": ".py",
   "mimetype": "text/x-python",
   "name": "python",
   "nbconvert_exporter": "python",
   "pygments_lexer": "ipython3",
   "version": "3.11.4"
  }
 },
 "nbformat": 4,
 "nbformat_minor": 5
}
